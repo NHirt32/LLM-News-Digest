{
  "nbformat": 4,
  "nbformat_minor": 0,
  "metadata": {
    "colab": {
      "provenance": [],
      "toc_visible": true,
      "authorship_tag": "ABX9TyMt/coh/W0e3OXQBAf1IcKg",
      "include_colab_link": true
    },
    "kernelspec": {
      "name": "python3",
      "display_name": "Python 3"
    },
    "language_info": {
      "name": "python"
    },
    "widgets": {
      "application/vnd.jupyter.widget-state+json": {
        "3a7bed2beeee46a7bcdf4818f0515abf": {
          "model_module": "@jupyter-widgets/controls",
          "model_name": "DropdownModel",
          "model_module_version": "1.5.0",
          "state": {
            "_dom_classes": [],
            "_model_module": "@jupyter-widgets/controls",
            "_model_module_version": "1.5.0",
            "_model_name": "DropdownModel",
            "_options_labels": [
              "United States",
              "United Kingdom",
              "Canada",
              "Australia",
              "Germany",
              "France",
              "India"
            ],
            "_view_count": null,
            "_view_module": "@jupyter-widgets/controls",
            "_view_module_version": "1.5.0",
            "_view_name": "DropdownView",
            "description": "Country:",
            "description_tooltip": null,
            "disabled": false,
            "index": 3,
            "layout": "IPY_MODEL_fc96d67fa3cc4da8a43bfde563557f61",
            "style": "IPY_MODEL_92ffedfe6f2e44aba71add5a506138c8"
          }
        },
        "fc96d67fa3cc4da8a43bfde563557f61": {
          "model_module": "@jupyter-widgets/base",
          "model_name": "LayoutModel",
          "model_module_version": "1.2.0",
          "state": {
            "_model_module": "@jupyter-widgets/base",
            "_model_module_version": "1.2.0",
            "_model_name": "LayoutModel",
            "_view_count": null,
            "_view_module": "@jupyter-widgets/base",
            "_view_module_version": "1.2.0",
            "_view_name": "LayoutView",
            "align_content": null,
            "align_items": null,
            "align_self": null,
            "border": null,
            "bottom": null,
            "display": null,
            "flex": null,
            "flex_flow": null,
            "grid_area": null,
            "grid_auto_columns": null,
            "grid_auto_flow": null,
            "grid_auto_rows": null,
            "grid_column": null,
            "grid_gap": null,
            "grid_row": null,
            "grid_template_areas": null,
            "grid_template_columns": null,
            "grid_template_rows": null,
            "height": null,
            "justify_content": null,
            "justify_items": null,
            "left": null,
            "margin": null,
            "max_height": null,
            "max_width": null,
            "min_height": null,
            "min_width": null,
            "object_fit": null,
            "object_position": null,
            "order": null,
            "overflow": null,
            "overflow_x": null,
            "overflow_y": null,
            "padding": null,
            "right": null,
            "top": null,
            "visibility": null,
            "width": null
          }
        },
        "92ffedfe6f2e44aba71add5a506138c8": {
          "model_module": "@jupyter-widgets/controls",
          "model_name": "DescriptionStyleModel",
          "model_module_version": "1.5.0",
          "state": {
            "_model_module": "@jupyter-widgets/controls",
            "_model_module_version": "1.5.0",
            "_model_name": "DescriptionStyleModel",
            "_view_count": null,
            "_view_module": "@jupyter-widgets/base",
            "_view_module_version": "1.2.0",
            "_view_name": "StyleView",
            "description_width": ""
          }
        }
      }
    }
  },
  "cells": [
    {
      "cell_type": "markdown",
      "metadata": {
        "id": "view-in-github",
        "colab_type": "text"
      },
      "source": [
        "<a href=\"https://colab.research.google.com/github/NHirt32/LLM-News-Digest/blob/dev/API_LLM_Project.ipynb\" target=\"_parent\"><img src=\"https://colab.research.google.com/assets/colab-badge.svg\" alt=\"Open In Colab\"/></a>"
      ]
    },
    {
      "cell_type": "markdown",
      "source": [
        "# Project Setup"
      ],
      "metadata": {
        "id": "SEyaO8cTKfI1"
      }
    },
    {
      "cell_type": "markdown",
      "source": [
        "Setting up the environment with required imports and installations\n"
      ],
      "metadata": {
        "id": "oYUBLU4EefFp"
      }
    },
    {
      "cell_type": "code",
      "source": [
        "!pip install python-dotenv\n",
        "!pip install openai"
      ],
      "metadata": {
        "colab": {
          "base_uri": "https://localhost:8080/"
        },
        "id": "M6311w8eiB5i",
        "outputId": "8c8faec2-ac0a-4edf-e87b-85c929c0e681"
      },
      "execution_count": 1,
      "outputs": [
        {
          "output_type": "stream",
          "name": "stdout",
          "text": [
            "Collecting python-dotenv\n",
            "  Downloading python_dotenv-1.0.1-py3-none-any.whl.metadata (23 kB)\n",
            "Downloading python_dotenv-1.0.1-py3-none-any.whl (19 kB)\n",
            "Installing collected packages: python-dotenv\n",
            "Successfully installed python-dotenv-1.0.1\n",
            "Requirement already satisfied: openai in /usr/local/lib/python3.10/dist-packages (1.52.2)\n",
            "Requirement already satisfied: anyio<5,>=3.5.0 in /usr/local/lib/python3.10/dist-packages (from openai) (3.7.1)\n",
            "Requirement already satisfied: distro<2,>=1.7.0 in /usr/local/lib/python3.10/dist-packages (from openai) (1.9.0)\n",
            "Requirement already satisfied: httpx<1,>=0.23.0 in /usr/local/lib/python3.10/dist-packages (from openai) (0.27.2)\n",
            "Requirement already satisfied: jiter<1,>=0.4.0 in /usr/local/lib/python3.10/dist-packages (from openai) (0.6.1)\n",
            "Requirement already satisfied: pydantic<3,>=1.9.0 in /usr/local/lib/python3.10/dist-packages (from openai) (2.9.2)\n",
            "Requirement already satisfied: sniffio in /usr/local/lib/python3.10/dist-packages (from openai) (1.3.1)\n",
            "Requirement already satisfied: tqdm>4 in /usr/local/lib/python3.10/dist-packages (from openai) (4.66.6)\n",
            "Requirement already satisfied: typing-extensions<5,>=4.11 in /usr/local/lib/python3.10/dist-packages (from openai) (4.12.2)\n",
            "Requirement already satisfied: idna>=2.8 in /usr/local/lib/python3.10/dist-packages (from anyio<5,>=3.5.0->openai) (3.10)\n",
            "Requirement already satisfied: exceptiongroup in /usr/local/lib/python3.10/dist-packages (from anyio<5,>=3.5.0->openai) (1.2.2)\n",
            "Requirement already satisfied: certifi in /usr/local/lib/python3.10/dist-packages (from httpx<1,>=0.23.0->openai) (2024.8.30)\n",
            "Requirement already satisfied: httpcore==1.* in /usr/local/lib/python3.10/dist-packages (from httpx<1,>=0.23.0->openai) (1.0.6)\n",
            "Requirement already satisfied: h11<0.15,>=0.13 in /usr/local/lib/python3.10/dist-packages (from httpcore==1.*->httpx<1,>=0.23.0->openai) (0.14.0)\n",
            "Requirement already satisfied: annotated-types>=0.6.0 in /usr/local/lib/python3.10/dist-packages (from pydantic<3,>=1.9.0->openai) (0.7.0)\n",
            "Requirement already satisfied: pydantic-core==2.23.4 in /usr/local/lib/python3.10/dist-packages (from pydantic<3,>=1.9.0->openai) (2.23.4)\n"
          ]
        }
      ]
    },
    {
      "cell_type": "code",
      "execution_count": 94,
      "metadata": {
        "id": "fA724uSwdElr"
      },
      "outputs": [],
      "source": [
        "# For API requests\n",
        "import requests\n",
        "# For mounting files and securing sensitive data\n",
        "from google.colab import drive\n",
        "import os\n",
        "from dotenv import load_dotenv\n",
        "# For OpenAI requests\n",
        "import openai\n",
        "# For interactive UI\n",
        "import ipywidgets as widgets\n",
        "from IPython.display import display"
      ]
    },
    {
      "cell_type": "markdown",
      "source": [
        "Here I'm mounting a .env file to prevent sharing my API key on my GitHub repository."
      ],
      "metadata": {
        "id": "TyaEsROLg-x_"
      }
    },
    {
      "cell_type": "code",
      "source": [
        "drive.mount('/content/drive')\n",
        "env_path = '/content/drive/MyDrive/API-LLM-Project/.env'\n",
        "load_dotenv(env_path)\n",
        "news_key = os.getenv(\"NEWS_API_KEY\")"
      ],
      "metadata": {
        "colab": {
          "base_uri": "https://localhost:8080/"
        },
        "id": "ngvG1b4jhH4q",
        "outputId": "741960d2-80c8-4521-8ede-3cffc9bb2040"
      },
      "execution_count": 3,
      "outputs": [
        {
          "output_type": "stream",
          "name": "stdout",
          "text": [
            "Mounted at /content/drive\n"
          ]
        }
      ]
    },
    {
      "cell_type": "markdown",
      "source": [
        "# News API Setup"
      ],
      "metadata": {
        "id": "5cQIKodVKlRH"
      }
    },
    {
      "cell_type": "markdown",
      "source": [
        "Setting up API parameters"
      ],
      "metadata": {
        "id": "2-omaSJZslJo"
      }
    },
    {
      "cell_type": "code",
      "source": [
        "# Top URLs syntax: url?country={chosen_country}&apiKey=API_KEY\n",
        "top_headlines_url = 'https://newsapi.org/v2/top-headlines'\n",
        "temp_country = 'US'\n",
        "news_params = {\n",
        "    'country': temp_country,\n",
        "    'apiKey': news_key\n",
        "}"
      ],
      "metadata": {
        "id": "CuMXRGmfnTYp"
      },
      "execution_count": 4,
      "outputs": []
    },
    {
      "cell_type": "markdown",
      "source": [
        "Here, we retrieve a response from the News API. If an error occurs, we halt the execution of the notebook; otherwise, we combine the titles and descriptions into a single, readable string to provide to our LLM."
      ],
      "metadata": {
        "id": "aYL3BzQcssLL"
      }
    },
    {
      "cell_type": "code",
      "source": [
        "news_response = requests.get(top_headlines_url, params = news_params)\n",
        "# If the response from News API is not \"OK\" stop the execution of the project\n",
        "if news_response.status_code != 200:\n",
        "  raise RuntimeError(f\"Error: {news_response.status_code}, {news_response.reason}\")\n",
        "# Converting request object to dictionary\n",
        "news_data = news_response.json()\n",
        "# Now we combine all titles and descriptions into a single legible string\n",
        "combined_content = '\\n\\n'.join(\n",
        "    f\"Title: {article['title']} \\n Description{article['description']}\"\n",
        "    for article in news_data['articles']\n",
        ")"
      ],
      "metadata": {
        "id": "KBok5gEZsuYP"
      },
      "execution_count": 5,
      "outputs": []
    },
    {
      "cell_type": "markdown",
      "source": [
        "# OpenAI API Setup"
      ],
      "metadata": {
        "id": "YeHBiu5EKpKD"
      }
    },
    {
      "cell_type": "markdown",
      "source": [
        "Here we setup our OpenAI API parameters."
      ],
      "metadata": {
        "id": "NNMJpLqrUJLf"
      }
    },
    {
      "cell_type": "code",
      "source": [
        "openai.api_key = os.getenv(\"OPENAI_API_KEY\")\n",
        "openai_params = {\n",
        "    'model': 'gpt-4o',\n",
        "    'messages': [\n",
        "        {\"role\": \"system\", \"content\": \"You are an intelligent summarization assistant tasked with breaking down news articles into distinct categories based on their content. Your goal is to analyze the articles and categorize them into the following segments with the appropriate percentage distribution. List a maximum of 3 articles in each section ranked by the article's importance. Ensure that each category is clearly defined and summarized concisely. Use headings or bullet points for clarity. Do not repeat the same article in multiple categories. Do not consider interplanetary news to be environmental. If there are no articles in a category the % breakdown should be 0% for that article.\"},\n",
        "        {\"role\": \"user\", \"content\": f\"Analyze the following articles and categorize them as Political, Economic, Social Issues, Environment, Technology, and Entertainment: {combined_content}\"}\n",
        "\n",
        "    ],\n",
        "    # Response length variable\n",
        "    'max_tokens': 1000\n",
        "}"
      ],
      "metadata": {
        "id": "vZHkz1xuK2fG"
      },
      "execution_count": 91,
      "outputs": []
    },
    {
      "cell_type": "markdown",
      "source": [
        "Now using our API parameters we make a request to OpenAI to summarize the combined content of our News API data."
      ],
      "metadata": {
        "id": "1BVuOIApUQzy"
      }
    },
    {
      "cell_type": "code",
      "source": [
        "try:\n",
        "  openai_response = openai.chat.completions.create(**openai_params)\n",
        "  # article_summary = openai_response.choices[0].message.content.strip()\n",
        "  # print(f\"Summary of Articles: {article_summary}\")\n",
        "except Exception as e:\n",
        "  print(f\"An error occured: {e}\")"
      ],
      "metadata": {
        "id": "CylFfXi2UZ8o"
      },
      "execution_count": 92,
      "outputs": []
    },
    {
      "cell_type": "code",
      "source": [
        "article_summary = openai_response.choices[0].message.content.strip()\n",
        "print(f\"{article_summary}\")"
      ],
      "metadata": {
        "colab": {
          "base_uri": "https://localhost:8080/"
        },
        "id": "tcxXdNNh3BJA",
        "outputId": "25ca200c-0954-4fd6-e17c-9f6713858dbf"
      },
      "execution_count": 93,
      "outputs": [
        {
          "output_type": "stream",
          "name": "stdout",
          "text": [
            "**Political - 30%**\n",
            "\n",
            "1. **Iran's enemies will receive crushing response - Khamenei - BBC.com**\n",
            "   - This article addresses international relations and potential military conflict following an attack on Iran by Israel.\n",
            "\n",
            "2. **Trump wants someone who will ‘do his bidding’ at DOJ. Here are the top contenders. - POLITICO**\n",
            "   - This discusses political maneuvering and potential changes in the Department of Justice depending on future presidential outcomes.\n",
            "\n",
            "3. **Kemi Badenoch becomes first Black woman to lead UK Conservatives - Reuters UK**\n",
            "   - This discusses a significant political development in the United Kingdom with implications for political leadership and policy direction.\n",
            "\n",
            "**Economic - 20%**\n",
            "\n",
            "1. **Berkshire's cash soars to $325 billion, Buffett sells Apple, Bank of America - Reuters**\n",
            "   - An analysis of Berkshire Hathaway's financial strategies impacting major economic stakeholders and markets.\n",
            "\n",
            "2. **TGI Fridays files for bankruptcy, COVID-19 pandemic blamed for financial woes - Fox Business**\n",
            "   - Discusses the economic implications of the COVID-19 pandemic on a major restaurant chain filing for bankruptcy.\n",
            "\n",
            "**Social Issues - 15%**\n",
            "\n",
            "1. **Florida's convicted killer clown released from prison for the murder of her husband's then-wife - The Associated Press**\n",
            "   - Covers the justice system and societal reactions to high-profile criminal cases.\n",
            "\n",
            "2. **In Context: What Trump said about Cheney facing a firing squad - Al Jazeera English**\n",
            "   - Provides context to statements affecting social and political discourse in the United States.\n",
            "\n",
            "**Entertainment - 20%**\n",
            "\n",
            "1. **'RHOBH' alum Teddi Mellencamp files for divorce from husband Edwin Arroyave after 13 years of marriage - Page Six**\n",
            "   - Discusses a high-profile divorce in the entertainment industry.\n",
            "\n",
            "2. **Alan Rachins, Actor on ‘L.A. Law’ and ‘Dharma & Greg,’ Dies at 82 - Hollywood Reporter**\n",
            "   - Reports the death of a well-known actor, impacting the entertainment community.\n",
            "\n",
            "3. **‘The Diplomat’ Star Keri Russell and Creator Debora Cahn Break Down Season 2 Ending - Variety**\n",
            "   - Offers insights into a popular TV show's season finale, which is relevant to fans and entertainment media.\n",
            "\n",
            "**Technology - 15%**\n",
            "\n",
            "1. **NASA's Perseverance rover captures 'googly-eye' Martian moon passing sun: See video - USA TODAY**\n",
            "   - Details the technological achievement of capturing a celestial event on Mars.\n",
            "\n",
            "2. **Watch SpaceX Crew-9 astronauts move Crew Dragon spacecraft to new ISS parking spot on Nov. 3 - Space.com**\n",
            "   - Discusses a technological event concerning space exploration and logistics.\n",
            "\n",
            "**Environment - 0%**\n",
            "- No environmental news articles were identified in the provided list.\n"
          ]
        }
      ]
    },
    {
      "cell_type": "code",
      "source": [
        "for i in range(0, 10):\n",
        "  print(news_data['articles'][i]['title'])"
      ],
      "metadata": {
        "colab": {
          "base_uri": "https://localhost:8080/"
        },
        "id": "LbCc3Ovk9Rf0",
        "outputId": "c5fb8d4f-0938-4d8b-afa7-87ed726d0247"
      },
      "execution_count": 39,
      "outputs": [
        {
          "output_type": "stream",
          "name": "stdout",
          "text": [
            "Ohio State remains in Big Ten title mix, tops PSU - ESPN\n",
            "Iran's enemies will receive crushing response - Khamenei - BBC.com\n",
            "'RHOBH' alum Teddi Mellencamp files for divorce from husband Edwin Arroyave after 13 years of marriage - Page Six\n",
            "Florida's convicted killer clown released from prison for the murder of her husband's then-wife - The Associated Press\n",
            "Trump wants someone who will ‘do his bidding’ at DOJ. Here are the top contenders. - POLITICO\n",
            "[Removed]\n",
            "Alan Rachins, Actor on ‘L.A. Law’ and ‘Dharma & Greg,’ Dies at 82 - Hollywood Reporter\n",
            "Yankees decline 2025 option on Anthony Rizzo, Gerrit Cole opts out of deal - Yahoo Sports\n",
            "Kemi Badenoch becomes first Black woman to lead UK Conservatives - Reuters UK\n",
            "Bubba Watson Donates House After Making Ace at Indonesian Masters - Sports Illustrated\n"
          ]
        }
      ]
    },
    {
      "cell_type": "code",
      "source": [
        "country_dropdown = widgets.Dropdown(\n",
        "    options=[\n",
        "        ('United States', 'us'),\n",
        "        ('United Kingdom', 'gb'),\n",
        "        ('Canada', 'ca'),\n",
        "        ('Australia', 'au'),\n",
        "        ('Germany', 'de'),\n",
        "        ('France', 'fr'),\n",
        "        ('India', 'in'),\n",
        "    ],\n",
        "    value='us',  # default value\n",
        "    description='Country:',\n",
        ")\n",
        "display(country_dropdown)\n"
      ],
      "metadata": {
        "colab": {
          "base_uri": "https://localhost:8080/",
          "height": 49,
          "referenced_widgets": [
            "3a7bed2beeee46a7bcdf4818f0515abf",
            "fc96d67fa3cc4da8a43bfde563557f61",
            "92ffedfe6f2e44aba71add5a506138c8"
          ]
        },
        "id": "nkzpLtSaRl3U",
        "outputId": "9354c2d4-4f62-4921-e025-c1acc22fdf97"
      },
      "execution_count": 95,
      "outputs": [
        {
          "output_type": "display_data",
          "data": {
            "text/plain": [
              "Dropdown(description='Country:', options=(('United States', 'us'), ('United Kingdom', 'gb'), ('Canada', 'ca'),…"
            ],
            "application/vnd.jupyter.widget-view+json": {
              "version_major": 2,
              "version_minor": 0,
              "model_id": "3a7bed2beeee46a7bcdf4818f0515abf"
            }
          },
          "metadata": {}
        }
      ]
    }
  ]
}