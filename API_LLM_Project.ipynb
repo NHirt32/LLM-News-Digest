{
  "cells": [
    {
      "cell_type": "markdown",
      "metadata": {
        "id": "view-in-github",
        "colab_type": "text"
      },
      "source": [
        "<a href=\"https://colab.research.google.com/github/NHirt32/LLM-News-Digest/blob/dev/API_LLM_Project.ipynb\" target=\"_parent\"><img src=\"https://colab.research.google.com/assets/colab-badge.svg\" alt=\"Open In Colab\"/></a>"
      ]
    },
    {
      "cell_type": "markdown",
      "metadata": {
        "id": "SEyaO8cTKfI1"
      },
      "source": [
        "# Project Setup"
      ]
    },
    {
      "cell_type": "markdown",
      "metadata": {
        "id": "oYUBLU4EefFp"
      },
      "source": [
        "Setting up the environment with required imports and installations\n"
      ]
    },
    {
      "cell_type": "code",
      "execution_count": null,
      "metadata": {
        "id": "M6311w8eiB5i"
      },
      "outputs": [],
      "source": [
        "!pip install python-dotenv\n",
        "!pip install openai\n",
        "!pip install jupyter-ui-poll"
      ]
    },
    {
      "cell_type": "code",
      "execution_count": null,
      "metadata": {
        "id": "fA724uSwdElr"
      },
      "outputs": [],
      "source": [
        "# For API requests\n",
        "import requests\n",
        "# For mounting files and securing sensitive data\n",
        "from google.colab import drive\n",
        "import os\n",
        "from dotenv import load_dotenv\n",
        "# For OpenAI requests\n",
        "import openai\n",
        "# For interactive UI\n",
        "import ipywidgets as widgets\n",
        "from IPython.display import display\n",
        "import time\n",
        "from jupyter_ui_poll import ui_events"
      ]
    },
    {
      "cell_type": "markdown",
      "metadata": {
        "id": "TyaEsROLg-x_"
      },
      "source": [
        "Here I'm mounting a .env file to prevent sharing my API key on my GitHub repository."
      ]
    },
    {
      "cell_type": "code",
      "execution_count": null,
      "metadata": {
        "colab": {
          "base_uri": "https://localhost:8080/"
        },
        "id": "ngvG1b4jhH4q",
        "outputId": "e6885838-5963-44f4-f1bd-85b72f7155d4"
      },
      "outputs": [
        {
          "name": "stdout",
          "output_type": "stream",
          "text": [
            "Drive already mounted at /content/drive; to attempt to forcibly remount, call drive.mount(\"/content/drive\", force_remount=True).\n"
          ]
        }
      ],
      "source": [
        "drive.mount('/content/drive')\n",
        "env_path = '/content/drive/MyDrive/API-LLM-Project/.env'\n",
        "load_dotenv(env_path)\n",
        "news_key = os.getenv(\"NEWS_API_KEY\")"
      ]
    },
    {
      "cell_type": "markdown",
      "metadata": {
        "id": "5cQIKodVKlRH"
      },
      "source": [
        "# News API Setup"
      ]
    },
    {
      "cell_type": "markdown",
      "metadata": {
        "id": "OpcvQWRCO-JO"
      },
      "source": [
        "Getting user input about desired country."
      ]
    },
    {
      "cell_type": "code",
      "execution_count": null,
      "metadata": {
        "colab": {
          "base_uri": "https://localhost:8080/",
          "height": 49,
          "referenced_widgets": [
            "656c73de928f435e954ac53d44811590",
            "7099c4ef9d554c8c8b33d080aba7ea94",
            "51258b01e7ea49148dffcc457ae6db68"
          ]
        },
        "id": "uf4JiCN9PBUd",
        "outputId": "1ca75fe8-6661-40e9-f04b-6ffc337e648f"
      },
      "outputs": [
        {
          "data": {
            "application/vnd.jupyter.widget-view+json": {
              "model_id": "656c73de928f435e954ac53d44811590",
              "version_major": 2,
              "version_minor": 0
            },
            "text/plain": [
              "Dropdown(description='Country:', options=(('Select a Country', 'select'), ('United States', 'US'), ('United Ki…"
            ]
          },
          "metadata": {},
          "output_type": "display_data"
        }
      ],
      "source": [
        "# Define the dropdown widget with a placeholder option\n",
        "country_dropdown = widgets.Dropdown(\n",
        "    options=[\n",
        "        ('Select a Country', 'select'),\n",
        "        ('United States', 'US'),\n",
        "        ('United Kingdom', 'GB'),\n",
        "        ('Canada', 'CA'),\n",
        "        ('Australia', 'AU'),\n",
        "        ('Germany', 'DE'),\n",
        "        ('France', 'FR'),\n",
        "    ],\n",
        "    value='select',  # default value\n",
        "    description='Country:',\n",
        ")\n",
        "\n",
        "display(country_dropdown)\n",
        "\n",
        "# Essentially a loop that will alternate between polling ui events and sleeping until the user makes a selection\n",
        "with ui_events() as poll:\n",
        "  while country_dropdown.value == 'select':\n",
        "    poll(10)\n",
        "    time.sleep(0.1)"
      ]
    },
    {
      "cell_type": "markdown",
      "metadata": {
        "id": "2-omaSJZslJo"
      },
      "source": [
        "Setting up API parameters"
      ]
    },
    {
      "cell_type": "code",
      "execution_count": null,
      "metadata": {
        "id": "CuMXRGmfnTYp"
      },
      "outputs": [],
      "source": [
        "# Top URLs syntax: url?country={chosen_country}&apiKey=API_KEY\n",
        "top_headlines_url = 'https://newsapi.org/v2/top-headlines'\n",
        "temp_country = country_dropdown.value\n",
        "news_params = {\n",
        "    'country': temp_country,\n",
        "    'apiKey': news_key\n",
        "}"
      ]
    },
    {
      "cell_type": "markdown",
      "metadata": {
        "id": "aYL3BzQcssLL"
      },
      "source": [
        "Here, we retrieve a response from the News API. If an error occurs, we halt the execution of the notebook; otherwise, we combine the titles and descriptions into a single, readable string to provide to our LLM."
      ]
    },
    {
      "cell_type": "code",
      "execution_count": null,
      "metadata": {
        "id": "KBok5gEZsuYP"
      },
      "outputs": [],
      "source": [
        "news_response = requests.get(top_headlines_url, params = news_params)\n",
        "# If the response from News API is not \"OK\" stop the execution of the project\n",
        "if news_response.status_code != 200:\n",
        "  raise RuntimeError(f\"Error: {news_response.status_code}, {news_response.reason}\")\n",
        "# Converting request object to dictionary\n",
        "news_data = news_response.json()\n",
        "# Now we combine all titles and descriptions into a single legible string\n",
        "combined_content = '\\n\\n'.join(\n",
        "    f\"Title: {article['title']} \\n Description{article['description']}\"\n",
        "    for article in news_data['articles']\n",
        ")"
      ]
    },
    {
      "cell_type": "markdown",
      "metadata": {
        "id": "YeHBiu5EKpKD"
      },
      "source": [
        "# OpenAI API Setup"
      ]
    },
    {
      "cell_type": "markdown",
      "metadata": {
        "id": "NNMJpLqrUJLf"
      },
      "source": [
        "Here we setup our OpenAI API parameters."
      ]
    },
    {
      "cell_type": "code",
      "execution_count": null,
      "metadata": {
        "id": "vZHkz1xuK2fG"
      },
      "outputs": [],
      "source": [
        "openai.api_key = os.getenv(\"OPENAI_API_KEY\")\n",
        "openai_params = {\n",
        "    'model': 'gpt-4o',\n",
        "    'messages': [\n",
        "        {\"role\": \"system\", \"content\": \"You are an intelligent summarization assistant tasked with breaking down news articles into the following categories 'Political, Economic, Social Issues, Environment, Technology, and Entertainment:' based on their content. Your goal is to analyze the articles and categorize them into the following segments with the appropriate percentage distribution. List a maximum of 3 articles in each section ranked by the article's importance. Ensure that each category is clearly defined and summarized concisely. Use headings or bullet points for clarity. Do not repeat the same article in multiple categories. Do not consider interplanetary news to be environmental. If there are no articles in a category the % breakdown should be 0% for that article.\"},\n",
        "        {\"role\": \"user\", \"content\": f\"Analyze the following articles and categorize them appropriately. After provide a structured dictionary format with category names as keys and percentages as values. Example format: ('Politics': 40, 'Economics': 20, ...): {combined_content}\"}\n",
        "\n",
        "    ],\n",
        "    # Response length variable\n",
        "    'max_tokens': 1000\n",
        "}"
      ]
    },
    {
      "cell_type": "markdown",
      "metadata": {
        "id": "1BVuOIApUQzy"
      },
      "source": [
        "Now using our API parameters we make a request to OpenAI to summarize the combined content of our News API data."
      ]
    },
    {
      "cell_type": "code",
      "execution_count": null,
      "metadata": {
        "id": "CylFfXi2UZ8o"
      },
      "outputs": [],
      "source": [
        "try:\n",
        "  openai_response = openai.chat.completions.create(**openai_params)\n",
        "  # article_summary = openai_response.choices[0].message.content.strip()\n",
        "  # print(f\"Summary of Articles: {article_summary}\")\n",
        "except Exception as e:\n",
        "  print(f\"An error occured: {e}\")"
      ]
    },
    {
      "cell_type": "code",
      "execution_count": null,
      "metadata": {
        "id": "tcxXdNNh3BJA"
      },
      "outputs": [],
      "source": [
        "article_summary = openai_response.choices[0].message.content.strip()\n",
        "print(f\"{article_summary}\")"
      ]
    },
    {
      "cell_type": "code",
      "execution_count": null,
      "metadata": {
        "id": "LbCc3Ovk9Rf0"
      },
      "outputs": [],
      "source": [
        "for i in range(0, 10):\n",
        "  print(news_data['articles'][i]['title'])"
      ]
    }
  ],
  "metadata": {
    "colab": {
      "toc_visible": true,
      "provenance": [],
      "authorship_tag": "ABX9TyOhWJgAgxDKuIkAF+QzNMTS",
      "include_colab_link": true
    },
    "kernelspec": {
      "display_name": "Python 3",
      "name": "python3"
    },
    "language_info": {
      "name": "python"
    },
    "widgets": {
      "application/vnd.jupyter.widget-state+json": {
        "51258b01e7ea49148dffcc457ae6db68": {
          "model_module": "@jupyter-widgets/controls",
          "model_module_version": "1.5.0",
          "model_name": "DescriptionStyleModel",
          "state": {
            "_model_module": "@jupyter-widgets/controls",
            "_model_module_version": "1.5.0",
            "_model_name": "DescriptionStyleModel",
            "_view_count": null,
            "_view_module": "@jupyter-widgets/base",
            "_view_module_version": "1.2.0",
            "_view_name": "StyleView",
            "description_width": ""
          }
        },
        "656c73de928f435e954ac53d44811590": {
          "model_module": "@jupyter-widgets/controls",
          "model_module_version": "1.5.0",
          "model_name": "DropdownModel",
          "state": {
            "_dom_classes": [],
            "_model_module": "@jupyter-widgets/controls",
            "_model_module_version": "1.5.0",
            "_model_name": "DropdownModel",
            "_options_labels": [
              "Select a Country",
              "United States",
              "United Kingdom",
              "Canada",
              "Australia",
              "Germany",
              "France"
            ],
            "_view_count": null,
            "_view_module": "@jupyter-widgets/controls",
            "_view_module_version": "1.5.0",
            "_view_name": "DropdownView",
            "description": "Country:",
            "description_tooltip": null,
            "disabled": false,
            "index": 1,
            "layout": "IPY_MODEL_7099c4ef9d554c8c8b33d080aba7ea94",
            "style": "IPY_MODEL_51258b01e7ea49148dffcc457ae6db68"
          }
        },
        "7099c4ef9d554c8c8b33d080aba7ea94": {
          "model_module": "@jupyter-widgets/base",
          "model_module_version": "1.2.0",
          "model_name": "LayoutModel",
          "state": {
            "_model_module": "@jupyter-widgets/base",
            "_model_module_version": "1.2.0",
            "_model_name": "LayoutModel",
            "_view_count": null,
            "_view_module": "@jupyter-widgets/base",
            "_view_module_version": "1.2.0",
            "_view_name": "LayoutView",
            "align_content": null,
            "align_items": null,
            "align_self": null,
            "border": null,
            "bottom": null,
            "display": null,
            "flex": null,
            "flex_flow": null,
            "grid_area": null,
            "grid_auto_columns": null,
            "grid_auto_flow": null,
            "grid_auto_rows": null,
            "grid_column": null,
            "grid_gap": null,
            "grid_row": null,
            "grid_template_areas": null,
            "grid_template_columns": null,
            "grid_template_rows": null,
            "height": null,
            "justify_content": null,
            "justify_items": null,
            "left": null,
            "margin": null,
            "max_height": null,
            "max_width": null,
            "min_height": null,
            "min_width": null,
            "object_fit": null,
            "object_position": null,
            "order": null,
            "overflow": null,
            "overflow_x": null,
            "overflow_y": null,
            "padding": null,
            "right": null,
            "top": null,
            "visibility": null,
            "width": null
          }
        }
      }
    }
  },
  "nbformat": 4,
  "nbformat_minor": 0
}