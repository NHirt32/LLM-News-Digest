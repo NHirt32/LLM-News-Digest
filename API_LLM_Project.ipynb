{
  "cells": [
    {
      "cell_type": "markdown",
      "metadata": {
        "id": "view-in-github",
        "colab_type": "text"
      },
      "source": [
        "<a href=\"https://colab.research.google.com/github/NHirt32/LLM-News-Digest/blob/dev/API_LLM_Project.ipynb\" target=\"_parent\"><img src=\"https://colab.research.google.com/assets/colab-badge.svg\" alt=\"Open In Colab\"/></a>"
      ]
    },
    {
      "cell_type": "markdown",
      "metadata": {
        "id": "SEyaO8cTKfI1"
      },
      "source": [
        "# Project Setup"
      ]
    },
    {
      "cell_type": "markdown",
      "metadata": {
        "id": "oYUBLU4EefFp"
      },
      "source": [
        "Setting up the environment with required imports and installations\n"
      ]
    },
    {
      "cell_type": "code",
      "execution_count": 29,
      "metadata": {
        "colab": {
          "base_uri": "https://localhost:8080/"
        },
        "id": "M6311w8eiB5i",
        "outputId": "197dc78b-1b52-4fc8-a50b-0bf3bcedbc5c"
      },
      "outputs": [
        {
          "output_type": "stream",
          "name": "stdout",
          "text": [
            "Requirement already satisfied: python-dotenv in /usr/local/lib/python3.10/dist-packages (1.0.1)\n",
            "Requirement already satisfied: openai in /usr/local/lib/python3.10/dist-packages (1.52.2)\n",
            "Requirement already satisfied: anyio<5,>=3.5.0 in /usr/local/lib/python3.10/dist-packages (from openai) (3.7.1)\n",
            "Requirement already satisfied: distro<2,>=1.7.0 in /usr/local/lib/python3.10/dist-packages (from openai) (1.9.0)\n",
            "Requirement already satisfied: httpx<1,>=0.23.0 in /usr/local/lib/python3.10/dist-packages (from openai) (0.27.2)\n",
            "Requirement already satisfied: jiter<1,>=0.4.0 in /usr/local/lib/python3.10/dist-packages (from openai) (0.6.1)\n",
            "Requirement already satisfied: pydantic<3,>=1.9.0 in /usr/local/lib/python3.10/dist-packages (from openai) (2.9.2)\n",
            "Requirement already satisfied: sniffio in /usr/local/lib/python3.10/dist-packages (from openai) (1.3.1)\n",
            "Requirement already satisfied: tqdm>4 in /usr/local/lib/python3.10/dist-packages (from openai) (4.66.6)\n",
            "Requirement already satisfied: typing-extensions<5,>=4.11 in /usr/local/lib/python3.10/dist-packages (from openai) (4.12.2)\n",
            "Requirement already satisfied: idna>=2.8 in /usr/local/lib/python3.10/dist-packages (from anyio<5,>=3.5.0->openai) (3.10)\n",
            "Requirement already satisfied: exceptiongroup in /usr/local/lib/python3.10/dist-packages (from anyio<5,>=3.5.0->openai) (1.2.2)\n",
            "Requirement already satisfied: certifi in /usr/local/lib/python3.10/dist-packages (from httpx<1,>=0.23.0->openai) (2024.8.30)\n",
            "Requirement already satisfied: httpcore==1.* in /usr/local/lib/python3.10/dist-packages (from httpx<1,>=0.23.0->openai) (1.0.6)\n",
            "Requirement already satisfied: h11<0.15,>=0.13 in /usr/local/lib/python3.10/dist-packages (from httpcore==1.*->httpx<1,>=0.23.0->openai) (0.14.0)\n",
            "Requirement already satisfied: annotated-types>=0.6.0 in /usr/local/lib/python3.10/dist-packages (from pydantic<3,>=1.9.0->openai) (0.7.0)\n",
            "Requirement already satisfied: pydantic-core==2.23.4 in /usr/local/lib/python3.10/dist-packages (from pydantic<3,>=1.9.0->openai) (2.23.4)\n",
            "Requirement already satisfied: jupyter-ui-poll in /usr/local/lib/python3.10/dist-packages (1.0.0)\n",
            "Requirement already satisfied: ipython in /usr/local/lib/python3.10/dist-packages (from jupyter-ui-poll) (7.34.0)\n",
            "Requirement already satisfied: setuptools>=18.5 in /usr/local/lib/python3.10/dist-packages (from ipython->jupyter-ui-poll) (75.1.0)\n",
            "Requirement already satisfied: jedi>=0.16 in /usr/local/lib/python3.10/dist-packages (from ipython->jupyter-ui-poll) (0.19.1)\n",
            "Requirement already satisfied: decorator in /usr/local/lib/python3.10/dist-packages (from ipython->jupyter-ui-poll) (4.4.2)\n",
            "Requirement already satisfied: pickleshare in /usr/local/lib/python3.10/dist-packages (from ipython->jupyter-ui-poll) (0.7.5)\n",
            "Requirement already satisfied: traitlets>=4.2 in /usr/local/lib/python3.10/dist-packages (from ipython->jupyter-ui-poll) (5.7.1)\n",
            "Requirement already satisfied: prompt-toolkit!=3.0.0,!=3.0.1,<3.1.0,>=2.0.0 in /usr/local/lib/python3.10/dist-packages (from ipython->jupyter-ui-poll) (3.0.48)\n",
            "Requirement already satisfied: pygments in /usr/local/lib/python3.10/dist-packages (from ipython->jupyter-ui-poll) (2.18.0)\n",
            "Requirement already satisfied: backcall in /usr/local/lib/python3.10/dist-packages (from ipython->jupyter-ui-poll) (0.2.0)\n",
            "Requirement already satisfied: matplotlib-inline in /usr/local/lib/python3.10/dist-packages (from ipython->jupyter-ui-poll) (0.1.7)\n",
            "Requirement already satisfied: pexpect>4.3 in /usr/local/lib/python3.10/dist-packages (from ipython->jupyter-ui-poll) (4.9.0)\n",
            "Requirement already satisfied: parso<0.9.0,>=0.8.3 in /usr/local/lib/python3.10/dist-packages (from jedi>=0.16->ipython->jupyter-ui-poll) (0.8.4)\n",
            "Requirement already satisfied: ptyprocess>=0.5 in /usr/local/lib/python3.10/dist-packages (from pexpect>4.3->ipython->jupyter-ui-poll) (0.7.0)\n",
            "Requirement already satisfied: wcwidth in /usr/local/lib/python3.10/dist-packages (from prompt-toolkit!=3.0.0,!=3.0.1,<3.1.0,>=2.0.0->ipython->jupyter-ui-poll) (0.2.13)\n"
          ]
        }
      ],
      "source": [
        "!pip install python-dotenv\n",
        "!pip install openai\n",
        "!pip install jupyter-ui-poll"
      ]
    },
    {
      "cell_type": "code",
      "execution_count": 71,
      "metadata": {
        "id": "fA724uSwdElr"
      },
      "outputs": [],
      "source": [
        "# For API requests\n",
        "import requests\n",
        "# For mounting files and securing sensitive data\n",
        "from google.colab import drive\n",
        "import os\n",
        "from dotenv import load_dotenv\n",
        "# For OpenAI requests\n",
        "import openai\n",
        "# For interactive UI\n",
        "import ipywidgets as widgets\n",
        "from IPython.display import display\n",
        "import time\n",
        "from jupyter_ui_poll import ui_events\n",
        "# For string processing\n",
        "import re\n",
        "# For data visualization\n",
        "import matplotlib.pyplot as plt"
      ]
    },
    {
      "cell_type": "markdown",
      "metadata": {
        "id": "TyaEsROLg-x_"
      },
      "source": [
        "Here I'm mounting a .env file to prevent sharing my API key on my GitHub repository."
      ]
    },
    {
      "cell_type": "code",
      "execution_count": 31,
      "metadata": {
        "colab": {
          "base_uri": "https://localhost:8080/"
        },
        "id": "ngvG1b4jhH4q",
        "outputId": "641436b5-f2d3-4f42-e382-2be3d6fbdf66"
      },
      "outputs": [
        {
          "output_type": "stream",
          "name": "stdout",
          "text": [
            "Drive already mounted at /content/drive; to attempt to forcibly remount, call drive.mount(\"/content/drive\", force_remount=True).\n"
          ]
        }
      ],
      "source": [
        "drive.mount('/content/drive')\n",
        "env_path = '/content/drive/MyDrive/API-LLM-Project/.env'\n",
        "load_dotenv(env_path)\n",
        "news_key = os.getenv(\"NEWS_API_KEY\")"
      ]
    },
    {
      "cell_type": "markdown",
      "metadata": {
        "id": "5cQIKodVKlRH"
      },
      "source": [
        "# News API Setup"
      ]
    },
    {
      "cell_type": "markdown",
      "metadata": {
        "id": "OpcvQWRCO-JO"
      },
      "source": [
        "Getting user input about desired country."
      ]
    },
    {
      "cell_type": "code",
      "execution_count": 32,
      "metadata": {
        "colab": {
          "base_uri": "https://localhost:8080/",
          "height": 49,
          "referenced_widgets": [
            "a3b7fa9a20a2410883ca344e0abb6799",
            "39fbb397961448fabb09897e6f71b569",
            "baa12ff6ea3446b3ac83740d47b46816"
          ]
        },
        "id": "uf4JiCN9PBUd",
        "outputId": "faf917e8-0d3c-4be8-b9b4-9f9cf2a1d344"
      },
      "outputs": [
        {
          "output_type": "display_data",
          "data": {
            "text/plain": [
              "Dropdown(description='Country:', options=(('Select a Country', 'select'), ('United States', 'US'), ('United Ki…"
            ],
            "application/vnd.jupyter.widget-view+json": {
              "version_major": 2,
              "version_minor": 0,
              "model_id": "a3b7fa9a20a2410883ca344e0abb6799"
            }
          },
          "metadata": {}
        }
      ],
      "source": [
        "# Define the dropdown widget with a placeholder option\n",
        "country_dropdown = widgets.Dropdown(\n",
        "    options=[\n",
        "        ('Select a Country', 'select'),\n",
        "        ('United States', 'US'),\n",
        "        ('United Kingdom', 'GB'),\n",
        "        ('Canada', 'CA'),\n",
        "        ('Australia', 'AU'),\n",
        "        ('Germany', 'DE'),\n",
        "        ('France', 'FR'),\n",
        "    ],\n",
        "    value='select',  # default value\n",
        "    description='Country:',\n",
        ")\n",
        "\n",
        "display(country_dropdown)\n",
        "\n",
        "# Essentially a loop that will alternate between polling ui events and sleeping until the user makes a selection\n",
        "with ui_events() as poll:\n",
        "  while country_dropdown.value == 'select':\n",
        "    poll(10)\n",
        "    time.sleep(0.1)"
      ]
    },
    {
      "cell_type": "markdown",
      "metadata": {
        "id": "2-omaSJZslJo"
      },
      "source": [
        "Setting up API parameters"
      ]
    },
    {
      "cell_type": "code",
      "execution_count": 33,
      "metadata": {
        "id": "CuMXRGmfnTYp"
      },
      "outputs": [],
      "source": [
        "# Top URLs syntax: url?country={chosen_country}&apiKey=API_KEY\n",
        "top_headlines_url = 'https://newsapi.org/v2/top-headlines'\n",
        "temp_country = country_dropdown.value\n",
        "news_params = {\n",
        "    'country': temp_country,\n",
        "    'apiKey': news_key\n",
        "}"
      ]
    },
    {
      "cell_type": "markdown",
      "metadata": {
        "id": "aYL3BzQcssLL"
      },
      "source": [
        "Here, we retrieve a response from the News API. If an error occurs, we halt the execution of the notebook; otherwise, we combine the titles and descriptions into a single, readable string to provide to our LLM."
      ]
    },
    {
      "cell_type": "code",
      "execution_count": 34,
      "metadata": {
        "id": "KBok5gEZsuYP"
      },
      "outputs": [],
      "source": [
        "news_response = requests.get(top_headlines_url, params = news_params)\n",
        "# If the response from News API is not \"OK\" stop the execution of the project\n",
        "if news_response.status_code != 200:\n",
        "  raise RuntimeError(f\"Error: {news_response.status_code}, {news_response.reason}\")\n",
        "# Converting request object to dictionary\n",
        "news_data = news_response.json()\n",
        "# Now we combine all titles and descriptions into a single legible string\n",
        "combined_content = '\\n\\n'.join(\n",
        "    f\"Title: {article['title']} \\n Description{article['description']}\"\n",
        "    for article in news_data['articles']\n",
        ")"
      ]
    },
    {
      "cell_type": "markdown",
      "metadata": {
        "id": "YeHBiu5EKpKD"
      },
      "source": [
        "# OpenAI API Setup"
      ]
    },
    {
      "cell_type": "markdown",
      "metadata": {
        "id": "NNMJpLqrUJLf"
      },
      "source": [
        "Here we setup our OpenAI API parameters."
      ]
    },
    {
      "cell_type": "code",
      "execution_count": 65,
      "metadata": {
        "id": "vZHkz1xuK2fG"
      },
      "outputs": [],
      "source": [
        "openai.api_key = os.getenv(\"OPENAI_API_KEY\")\n",
        "openai_params = {\n",
        "    'model': 'gpt-4o',\n",
        "    'messages': [\n",
        "        {\n",
        "            \"role\": \"system\",\n",
        "            \"content\": (\n",
        "                \"You are an intelligent summarization assistant tasked with categorizing news articles into the specific sections: 'Politics', 'Economics', 'Social Issues', 'Environment', 'Technology', and 'Entertainment.' \"\n",
        "                \"Each category should have a single numeric percentage assigned (e.g., 'Politics: 40%'). \"\n",
        "                \"For each section with content, provide up to 3 bullet points summarizing the top 3 most relevant articles in that category. \"\n",
        "                \"List articles as bullet points, using the format: '[Article Title] - [Source]: [Brief Summary]'. \"\n",
        "                \"If a category has no articles, list it with a percentage of 0% and write 'No articles fit this category.' \"\n",
        "                \"Do **not** create any categories other than 'Politics', 'Economics', 'Social Issues', 'Environment', 'Technology', and 'Entertainment.' \"\n",
        "                \"Disregard content about weather, natural disasters, or other topics outside these specific categories, and do not create a 'Weather' category.\\n\\n\"\n",
        "                \"Strictly follow this format for each response:\\n\\n\"\n",
        "                \"- **Category Name: Percentage%**\\n  1. Article Summary Bullet 1\\n  2. Article Summary Bullet 2\\n  3. Article Summary Bullet 3\\n\\n\"\n",
        "                \"Example format:\\n\\n\"\n",
        "                \"- **Politics: 40%**\\n  1. Article Summary 1\\n  2. Article Summary 2\\n  3. Article Summary 3\\n\\n\"\n",
        "                \"- **Economics: 20%**\\n  No articles fit this category.\\n\\n\"\n",
        "                \"Each response should include all categories listed, with clear headings, percentages, and article summaries as instructed.\"\n",
        "            )\n",
        "        },\n",
        "        {\n",
        "            \"role\": \"user\",\n",
        "            \"content\": (\n",
        "                f\"Analyze the following articles and categorize them appropriately in the format specified. \"\n",
        "                f\"The content is as follows:\\n\\n{combined_content}\"\n",
        "            )\n",
        "        }\n",
        "    ],\n",
        "    'max_tokens': 1000,\n",
        "    'temperature': 0  # Set temperature to 0 for deterministic responses\n",
        "}"
      ]
    },
    {
      "cell_type": "markdown",
      "metadata": {
        "id": "1BVuOIApUQzy"
      },
      "source": [
        "Now using our API parameters we make a request to OpenAI to summarize the combined content of our News API data."
      ]
    },
    {
      "cell_type": "code",
      "execution_count": 66,
      "metadata": {
        "id": "CylFfXi2UZ8o"
      },
      "outputs": [],
      "source": [
        "try:\n",
        "  openai_response = openai.chat.completions.create(**openai_params)\n",
        "  # article_summary = openai_response.choices[0].message.content.strip()\n",
        "  # print(f\"Summary of Articles: {article_summary}\")\n",
        "except Exception as e:\n",
        "  print(f\"An error occured: {e}\")\n",
        "article_summary = openai_response.choices[0].message.content.strip()"
      ]
    },
    {
      "cell_type": "markdown",
      "source": [
        "# Data Visualization and Presentation"
      ],
      "metadata": {
        "id": "NLZ52rPuQlTP"
      }
    },
    {
      "cell_type": "code",
      "source": [
        "# Creating a regex to make a dictionary of the percentage breakdown of article varieties\n",
        "category_matches = re.findall(r\"-\\s\\*\\*(.+):\\s(\\d+)%\\*\\*\", article_summary)\n",
        "\n",
        "# Creating the dictionary from the matches\n",
        "category_dict = {category.strip(): int(percent) for category, percent in category_matches}\n",
        "\n",
        "# Removing keys with a value of 0\n",
        "filtered_dict = {key: value for key, value in category_dict.items() if value != 0}\n",
        "\n",
        "categories = list(filtered_dict.keys())\n",
        "percentages = list(filtered_dict.values())\n",
        "\n",
        "# Pie Chart\n",
        "plt.figure(figsize=(8, 6))\n",
        "plt.pie(percentages, labels=categories, autopct='%1.1f%%', startangle=140, colors=plt.cm.Paired.colors)\n",
        "plt.title('Article Categories Distribution')\n",
        "plt.show()\n",
        "\n",
        "# Bar Chart\n",
        "plt.figure(figsize=(10, 6))\n",
        "plt.bar(categories, percentages, color=plt.cm.Paired.colors)\n",
        "plt.title('Article Categories Distribution')\n",
        "plt.xlabel('Categories')\n",
        "plt.ylabel('Percentage')\n",
        "plt.show()"
      ],
      "metadata": {
        "colab": {
          "base_uri": "https://localhost:8080/",
          "height": 1000
        },
        "id": "LE4OI58XGOZ_",
        "outputId": "e5336dee-bd9e-4af9-c578-f54dc855aa22"
      },
      "execution_count": 75,
      "outputs": [
        {
          "output_type": "display_data",
          "data": {
            "text/plain": [
              "<Figure size 800x600 with 1 Axes>"
            ],
            "image/png": "[encoded data removed]"
          },
          "metadata": {}
        },
        {
          "output_type": "display_data",
          "data": {
            "text/plain": [
              "<Figure size 1000x600 with 1 Axes>"
            ],
            "image/png": "[encoded data removed]"
          },
          "metadata": {}
        }
      ]
    }
  ],
  "metadata": {
    "colab": {
      "toc_visible": true,
      "provenance": [],
      "authorship_tag": "ABX9TyOjWVOw/n/arCSb9f+rjGS4",
      "include_colab_link": true
    },
    "kernelspec": {
      "display_name": "Python 3",
      "name": "python3"
    },
    "language_info": {
      "name": "python"
    },
    "widgets": {
      "application/vnd.jupyter.widget-state+json": {
        "a3b7fa9a20a2410883ca344e0abb6799": {
          "model_module": "@jupyter-widgets/controls",
          "model_name": "DropdownModel",
          "model_module_version": "1.5.0",
          "state": {
            "_dom_classes": [],
            "_model_module": "@jupyter-widgets/controls",
            "_model_module_version": "1.5.0",
            "_model_name": "DropdownModel",
            "_options_labels": [
              "Select a Country",
              "United States",
              "United Kingdom",
              "Canada",
              "Australia",
              "Germany",
              "France"
            ],
            "_view_count": null,
            "_view_module": "@jupyter-widgets/controls",
            "_view_module_version": "1.5.0",
            "_view_name": "DropdownView",
            "description": "Country:",
            "description_tooltip": null,
            "disabled": false,
            "index": 1,
            "layout": "IPY_MODEL_39fbb397961448fabb09897e6f71b569",
            "style": "IPY_MODEL_baa12ff6ea3446b3ac83740d47b46816"
          }
        },
        "39fbb397961448fabb09897e6f71b569": {
          "model_module": "@jupyter-widgets/base",
          "model_name": "LayoutModel",
          "model_module_version": "1.2.0",
          "state": {
            "_model_module": "@jupyter-widgets/base",
            "_model_module_version": "1.2.0",
            "_model_name": "LayoutModel",
            "_view_count": null,
            "_view_module": "@jupyter-widgets/base",
            "_view_module_version": "1.2.0",
            "_view_name": "LayoutView",
            "align_content": null,
            "align_items": null,
            "align_self": null,
            "border": null,
            "bottom": null,
            "display": null,
            "flex": null,
            "flex_flow": null,
            "grid_area": null,
            "grid_auto_columns": null,
            "grid_auto_flow": null,
            "grid_auto_rows": null,
            "grid_column": null,
            "grid_gap": null,
            "grid_row": null,
            "grid_template_areas": null,
            "grid_template_columns": null,
            "grid_template_rows": null,
            "height": null,
            "justify_content": null,
            "justify_items": null,
            "left": null,
            "margin": null,
            "max_height": null,
            "max_width": null,
            "min_height": null,
            "min_width": null,
            "object_fit": null,
            "object_position": null,
            "order": null,
            "overflow": null,
            "overflow_x": null,
            "overflow_y": null,
            "padding": null,
            "right": null,
            "top": null,
            "visibility": null,
            "width": null
          }
        },
        "baa12ff6ea3446b3ac83740d47b46816": {
          "model_module": "@jupyter-widgets/controls",
          "model_name": "DescriptionStyleModel",
          "model_module_version": "1.5.0",
          "state": {
            "_model_module": "@jupyter-widgets/controls",
            "_model_module_version": "1.5.0",
            "_model_name": "DescriptionStyleModel",
            "_view_count": null,
            "_view_module": "@jupyter-widgets/base",
            "_view_module_version": "1.2.0",
            "_view_name": "StyleView",
            "description_width": ""
          }
        }
      }
    }
  },
  "nbformat": 4,
  "nbformat_minor": 0
}