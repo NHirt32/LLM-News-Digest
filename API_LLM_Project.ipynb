{
  "nbformat": 4,
  "nbformat_minor": 0,
  "metadata": {
    "colab": {
      "provenance": [],
      "toc_visible": true,
      "authorship_tag": "ABX9TyNztn4rhbHnzXKX/9V/cTk4",
      "include_colab_link": true
    },
    "kernelspec": {
      "name": "python3",
      "display_name": "Python 3"
    },
    "language_info": {
      "name": "python"
    }
  },
  "cells": [
    {
      "cell_type": "markdown",
      "metadata": {
        "id": "view-in-github",
        "colab_type": "text"
      },
      "source": [
        "<a href=\"https://colab.research.google.com/github/NHirt32/LLM-News-Digest/blob/main/API_LLM_Project.ipynb\" target=\"_parent\"><img src=\"https://colab.research.google.com/assets/colab-badge.svg\" alt=\"Open In Colab\"/></a>"
      ]
    },
    {
      "cell_type": "markdown",
      "source": [
        "# Project Setup"
      ],
      "metadata": {
        "id": "SEyaO8cTKfI1"
      }
    },
    {
      "cell_type": "markdown",
      "source": [
        "Setting up the environment with required imports and installations\n"
      ],
      "metadata": {
        "id": "oYUBLU4EefFp"
      }
    },
    {
      "cell_type": "code",
      "source": [
        "!pip install python-dotenv\n",
        "!pip install openai"
      ],
      "metadata": {
        "colab": {
          "base_uri": "https://localhost:8080/"
        },
        "id": "M6311w8eiB5i",
        "outputId": "848d6783-6e56-4601-bc53-d4214f773107"
      },
      "execution_count": 27,
      "outputs": [
        {
          "output_type": "stream",
          "name": "stdout",
          "text": [
            "Requirement already satisfied: python-dotenv in /usr/local/lib/python3.10/dist-packages (1.0.1)\n",
            "Requirement already satisfied: openai in /usr/local/lib/python3.10/dist-packages (1.52.2)\n",
            "Requirement already satisfied: anyio<5,>=3.5.0 in /usr/local/lib/python3.10/dist-packages (from openai) (3.7.1)\n",
            "Requirement already satisfied: distro<2,>=1.7.0 in /usr/local/lib/python3.10/dist-packages (from openai) (1.9.0)\n",
            "Requirement already satisfied: httpx<1,>=0.23.0 in /usr/local/lib/python3.10/dist-packages (from openai) (0.27.2)\n",
            "Requirement already satisfied: jiter<1,>=0.4.0 in /usr/local/lib/python3.10/dist-packages (from openai) (0.6.1)\n",
            "Requirement already satisfied: pydantic<3,>=1.9.0 in /usr/local/lib/python3.10/dist-packages (from openai) (2.9.2)\n",
            "Requirement already satisfied: sniffio in /usr/local/lib/python3.10/dist-packages (from openai) (1.3.1)\n",
            "Requirement already satisfied: tqdm>4 in /usr/local/lib/python3.10/dist-packages (from openai) (4.66.6)\n",
            "Requirement already satisfied: typing-extensions<5,>=4.11 in /usr/local/lib/python3.10/dist-packages (from openai) (4.12.2)\n",
            "Requirement already satisfied: idna>=2.8 in /usr/local/lib/python3.10/dist-packages (from anyio<5,>=3.5.0->openai) (3.10)\n",
            "Requirement already satisfied: exceptiongroup in /usr/local/lib/python3.10/dist-packages (from anyio<5,>=3.5.0->openai) (1.2.2)\n",
            "Requirement already satisfied: certifi in /usr/local/lib/python3.10/dist-packages (from httpx<1,>=0.23.0->openai) (2024.8.30)\n",
            "Requirement already satisfied: httpcore==1.* in /usr/local/lib/python3.10/dist-packages (from httpx<1,>=0.23.0->openai) (1.0.6)\n",
            "Requirement already satisfied: h11<0.15,>=0.13 in /usr/local/lib/python3.10/dist-packages (from httpcore==1.*->httpx<1,>=0.23.0->openai) (0.14.0)\n",
            "Requirement already satisfied: annotated-types>=0.6.0 in /usr/local/lib/python3.10/dist-packages (from pydantic<3,>=1.9.0->openai) (0.7.0)\n",
            "Requirement already satisfied: pydantic-core==2.23.4 in /usr/local/lib/python3.10/dist-packages (from pydantic<3,>=1.9.0->openai) (2.23.4)\n"
          ]
        }
      ]
    },
    {
      "cell_type": "code",
      "execution_count": 28,
      "metadata": {
        "id": "fA724uSwdElr"
      },
      "outputs": [],
      "source": [
        "# For API requests\n",
        "import requests\n",
        "# For mounting files and securing sensitive data\n",
        "from google.colab import drive\n",
        "import os\n",
        "from dotenv import load_dotenv\n",
        "# For OpenAI requests\n",
        "import openai"
      ]
    },
    {
      "cell_type": "markdown",
      "source": [
        "Here I'm mounting a .env file to prevent sharing my API key on my GitHub repository."
      ],
      "metadata": {
        "id": "TyaEsROLg-x_"
      }
    },
    {
      "cell_type": "code",
      "source": [
        "drive.mount('/content/drive')\n",
        "env_path = '/content/drive/MyDrive/API-LLM-Project/.env'\n",
        "load_dotenv(env_path)\n",
        "news_key = os.getenv(\"NEWS_API_KEY\")"
      ],
      "metadata": {
        "colab": {
          "base_uri": "https://localhost:8080/"
        },
        "id": "ngvG1b4jhH4q",
        "outputId": "a87b5c62-642a-4c7b-89e4-bd23bdcd0613"
      },
      "execution_count": 29,
      "outputs": [
        {
          "output_type": "stream",
          "name": "stdout",
          "text": [
            "Drive already mounted at /content/drive; to attempt to forcibly remount, call drive.mount(\"/content/drive\", force_remount=True).\n"
          ]
        }
      ]
    },
    {
      "cell_type": "markdown",
      "source": [
        "# News API Setup"
      ],
      "metadata": {
        "id": "5cQIKodVKlRH"
      }
    },
    {
      "cell_type": "markdown",
      "source": [
        "Setting up API parameters"
      ],
      "metadata": {
        "id": "2-omaSJZslJo"
      }
    },
    {
      "cell_type": "code",
      "source": [
        "# Top URLs syntax: url?country={chosen_country}&apiKey=API_KEY\n",
        "top_headlines_url = 'https://newsapi.org/v2/top-headlines'\n",
        "temp_country = 'US'\n",
        "news_params = {\n",
        "    'country': temp_country,\n",
        "    'apiKey': news_key\n",
        "}"
      ],
      "metadata": {
        "id": "CuMXRGmfnTYp"
      },
      "execution_count": 30,
      "outputs": []
    },
    {
      "cell_type": "markdown",
      "source": [
        "Here, we retrieve a response from the News API. If an error occurs, we halt the execution of the notebook; otherwise, we combine the titles and descriptions into a single, readable string to provide to our LLM."
      ],
      "metadata": {
        "id": "aYL3BzQcssLL"
      }
    },
    {
      "cell_type": "code",
      "source": [
        "news_response = requests.get(top_headlines_url, params = news_params)\n",
        "# If the response from News API is not \"OK\" stop the execution of the project\n",
        "if news_response.status_code != 200:\n",
        "  raise RuntimeError(f\"Error: {news_response.status_code}, {news_response.reason}\")\n",
        "# Converting request object to dictionary\n",
        "news_data = news_response.json()\n",
        "# Now we combine all titles and descriptions into a single legible string\n",
        "combined_content = '\\n\\n'.join(\n",
        "    f\"Title: {article['title']} \\n Description{article['description']}\"\n",
        "    for article in news_data['articles']\n",
        ")"
      ],
      "metadata": {
        "id": "KBok5gEZsuYP"
      },
      "execution_count": 31,
      "outputs": []
    },
    {
      "cell_type": "markdown",
      "source": [
        "# OpenAI API Setup"
      ],
      "metadata": {
        "id": "YeHBiu5EKpKD"
      }
    },
    {
      "cell_type": "markdown",
      "source": [
        "Here we setup our OpenAI API parameters."
      ],
      "metadata": {
        "id": "NNMJpLqrUJLf"
      }
    },
    {
      "cell_type": "code",
      "source": [
        "openai.api_key = os.getenv(\"OPENAI_API_KEY\")\n",
        "openai_params = {\n",
        "    'model': 'gpt-3.5-turbo',\n",
        "    'messages': [\n",
        "        {\"role\": \"system\", \"content\": \"You are a helpful assistant that summarizes news articles.\"},\n",
        "        {\"role\": \"user\", \"content\": f\"{combined_content}\"}\n",
        "\n",
        "    ],\n",
        "    # Response length variable\n",
        "    'max_tokens': 100\n",
        "}"
      ],
      "metadata": {
        "id": "vZHkz1xuK2fG"
      },
      "execution_count": 35,
      "outputs": []
    },
    {
      "cell_type": "markdown",
      "source": [
        "Now using our API parameters we make a request to OpenAI to summarize the combined content of our News API data."
      ],
      "metadata": {
        "id": "1BVuOIApUQzy"
      }
    },
    {
      "cell_type": "code",
      "source": [
        "try:\n",
        "  openai_response = await openai.chat.completions.create(**openai_params)\n",
        "  article_summary = openai_response.choices[0].message['content'].strip()\n",
        "  print(f\"Summary of Articles: {article_summary}\")\n",
        "except Exception as e:\n",
        "  print(f\"An error occured: {e}\")"
      ],
      "metadata": {
        "colab": {
          "base_uri": "https://localhost:8080/"
        },
        "id": "CylFfXi2UZ8o",
        "outputId": "b4346bfe-17b2-4f00-f1b0-5b837c6d7da6"
      },
      "execution_count": 34,
      "outputs": [
        {
          "output_type": "stream",
          "name": "stdout",
          "text": [
            "An error occured: Error code: 429 - {'error': {'message': 'You exceeded your current quota, please check your plan and billing details. For more information on this error, read the docs: https://platform.openai.com/docs/guides/error-codes/api-errors.', 'type': 'insufficient_quota', 'param': None, 'code': 'insufficient_quota'}}\n"
          ]
        }
      ]
    }
  ]
}