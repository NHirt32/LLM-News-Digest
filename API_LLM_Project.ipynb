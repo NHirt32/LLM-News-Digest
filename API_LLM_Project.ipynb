{
  "cells": [
    {
      "cell_type": "markdown",
      "metadata": {
        "id": "view-in-github",
        "colab_type": "text"
      },
      "source": [
        "<a href=\"https://colab.research.google.com/github/NHirt32/LLM-News-Digest/blob/dev/API_LLM_Project.ipynb\" target=\"_parent\"><img src=\"https://colab.research.google.com/assets/colab-badge.svg\" alt=\"Open In Colab\"/></a>"
      ]
    },
    {
      "cell_type": "markdown",
      "source": [
        "# Introduction"
      ],
      "metadata": {
        "id": "mnc0z6mZmwj2"
      }
    },
    {
      "cell_type": "markdown",
      "source": [
        "Welcome to the API-powered News Summarization Project. This tool leverages the OpenAI API and a news source API to gather, analyze, and categorize current news articles from selected countries. The project aims to provide concise, relevant news summaries with a clear breakdown by category, helping users stay informed on major topics at a glance."
      ],
      "metadata": {
        "id": "-QNLFou9mzjq"
      }
    },
    {
      "cell_type": "markdown",
      "metadata": {
        "id": "SEyaO8cTKfI1"
      },
      "source": [
        "# Project Setup and Prerequisites\n",
        "Before starting, make sure all necessary libraries are installed and ready for use. This project uses the following libraries:\n",
        "\n",
        "    requests: For making HTTP requests to external APIs.\n",
        "    dotenv: For securely managing environment variables.\n",
        "    openai: For interacting with the OpenAI API.\n",
        "    ipywidgets and jupyter_ui_poll: For creating interactive UI elements within the notebook.\n",
        "    matplotlib: For data visualization.\n",
        "    re: For regular expression operations on text data."
      ]
    },
    {
      "cell_type": "markdown",
      "metadata": {
        "id": "oYUBLU4EefFp"
      },
      "source": [
        "Run the following command to install any missing packages:"
      ]
    },
    {
      "cell_type": "code",
      "execution_count": 1,
      "metadata": {
        "colab": {
          "base_uri": "https://localhost:8080/"
        },
        "id": "M6311w8eiB5i",
        "outputId": "52b61aef-7546-4ae7-f02a-2119eb9fd0bf"
      },
      "outputs": [
        {
          "output_type": "stream",
          "name": "stdout",
          "text": [
            "Collecting python-dotenv\n",
            "  Downloading python_dotenv-1.0.1-py3-none-any.whl.metadata (23 kB)\n",
            "Requirement already satisfied: openai in /usr/local/lib/python3.10/dist-packages (1.52.2)\n",
            "Collecting jupyter_ui_poll\n",
            "  Downloading jupyter_ui_poll-1.0.0-py2.py3-none-any.whl.metadata (7.3 kB)\n",
            "Requirement already satisfied: anyio<5,>=3.5.0 in /usr/local/lib/python3.10/dist-packages (from openai) (3.7.1)\n",
            "Requirement already satisfied: distro<2,>=1.7.0 in /usr/local/lib/python3.10/dist-packages (from openai) (1.9.0)\n",
            "Requirement already satisfied: httpx<1,>=0.23.0 in /usr/local/lib/python3.10/dist-packages (from openai) (0.27.2)\n",
            "Requirement already satisfied: jiter<1,>=0.4.0 in /usr/local/lib/python3.10/dist-packages (from openai) (0.6.1)\n",
            "Requirement already satisfied: pydantic<3,>=1.9.0 in /usr/local/lib/python3.10/dist-packages (from openai) (2.9.2)\n",
            "Requirement already satisfied: sniffio in /usr/local/lib/python3.10/dist-packages (from openai) (1.3.1)\n",
            "Requirement already satisfied: tqdm>4 in /usr/local/lib/python3.10/dist-packages (from openai) (4.66.6)\n",
            "Requirement already satisfied: typing-extensions<5,>=4.11 in /usr/local/lib/python3.10/dist-packages (from openai) (4.12.2)\n",
            "Requirement already satisfied: ipython in /usr/local/lib/python3.10/dist-packages (from jupyter_ui_poll) (7.34.0)\n",
            "Requirement already satisfied: idna>=2.8 in /usr/local/lib/python3.10/dist-packages (from anyio<5,>=3.5.0->openai) (3.10)\n",
            "Requirement already satisfied: exceptiongroup in /usr/local/lib/python3.10/dist-packages (from anyio<5,>=3.5.0->openai) (1.2.2)\n",
            "Requirement already satisfied: certifi in /usr/local/lib/python3.10/dist-packages (from httpx<1,>=0.23.0->openai) (2024.8.30)\n",
            "Requirement already satisfied: httpcore==1.* in /usr/local/lib/python3.10/dist-packages (from httpx<1,>=0.23.0->openai) (1.0.6)\n",
            "Requirement already satisfied: h11<0.15,>=0.13 in /usr/local/lib/python3.10/dist-packages (from httpcore==1.*->httpx<1,>=0.23.0->openai) (0.14.0)\n",
            "Requirement already satisfied: annotated-types>=0.6.0 in /usr/local/lib/python3.10/dist-packages (from pydantic<3,>=1.9.0->openai) (0.7.0)\n",
            "Requirement already satisfied: pydantic-core==2.23.4 in /usr/local/lib/python3.10/dist-packages (from pydantic<3,>=1.9.0->openai) (2.23.4)\n",
            "Requirement already satisfied: setuptools>=18.5 in /usr/local/lib/python3.10/dist-packages (from ipython->jupyter_ui_poll) (75.1.0)\n",
            "Collecting jedi>=0.16 (from ipython->jupyter_ui_poll)\n",
            "  Downloading jedi-0.19.1-py2.py3-none-any.whl.metadata (22 kB)\n",
            "Requirement already satisfied: decorator in /usr/local/lib/python3.10/dist-packages (from ipython->jupyter_ui_poll) (4.4.2)\n",
            "Requirement already satisfied: pickleshare in /usr/local/lib/python3.10/dist-packages (from ipython->jupyter_ui_poll) (0.7.5)\n",
            "Requirement already satisfied: traitlets>=4.2 in /usr/local/lib/python3.10/dist-packages (from ipython->jupyter_ui_poll) (5.7.1)\n",
            "Requirement already satisfied: prompt-toolkit!=3.0.0,!=3.0.1,<3.1.0,>=2.0.0 in /usr/local/lib/python3.10/dist-packages (from ipython->jupyter_ui_poll) (3.0.48)\n",
            "Requirement already satisfied: pygments in /usr/local/lib/python3.10/dist-packages (from ipython->jupyter_ui_poll) (2.18.0)\n",
            "Requirement already satisfied: backcall in /usr/local/lib/python3.10/dist-packages (from ipython->jupyter_ui_poll) (0.2.0)\n",
            "Requirement already satisfied: matplotlib-inline in /usr/local/lib/python3.10/dist-packages (from ipython->jupyter_ui_poll) (0.1.7)\n",
            "Requirement already satisfied: pexpect>4.3 in /usr/local/lib/python3.10/dist-packages (from ipython->jupyter_ui_poll) (4.9.0)\n",
            "Requirement already satisfied: parso<0.9.0,>=0.8.3 in /usr/local/lib/python3.10/dist-packages (from jedi>=0.16->ipython->jupyter_ui_poll) (0.8.4)\n",
            "Requirement already satisfied: ptyprocess>=0.5 in /usr/local/lib/python3.10/dist-packages (from pexpect>4.3->ipython->jupyter_ui_poll) (0.7.0)\n",
            "Requirement already satisfied: wcwidth in /usr/local/lib/python3.10/dist-packages (from prompt-toolkit!=3.0.0,!=3.0.1,<3.1.0,>=2.0.0->ipython->jupyter_ui_poll) (0.2.13)\n",
            "Downloading python_dotenv-1.0.1-py3-none-any.whl (19 kB)\n",
            "Downloading jupyter_ui_poll-1.0.0-py2.py3-none-any.whl (9.1 kB)\n",
            "Downloading jedi-0.19.1-py2.py3-none-any.whl (1.6 MB)\n",
            "\u001b[2K   \u001b[90m━━━━━━━━━━━━━━━━━━━━━━━━━━━━━━━━━━━━━━━━\u001b[0m \u001b[32m1.6/1.6 MB\u001b[0m \u001b[31m13.6 MB/s\u001b[0m eta \u001b[36m0:00:00\u001b[0m\n",
            "\u001b[?25hInstalling collected packages: python-dotenv, jedi, jupyter_ui_poll\n",
            "Successfully installed jedi-0.19.1 jupyter_ui_poll-1.0.0 python-dotenv-1.0.1\n"
          ]
        }
      ],
      "source": [
        "!pip install python-dotenv openai jupyter_ui_poll"
      ]
    },
    {
      "cell_type": "markdown",
      "source": [
        "Next, import the required libraries:"
      ],
      "metadata": {
        "id": "UfyTQS8nnvAV"
      }
    },
    {
      "cell_type": "code",
      "execution_count": 2,
      "metadata": {
        "id": "fA724uSwdElr"
      },
      "outputs": [],
      "source": [
        "# For API requests\n",
        "import requests\n",
        "# For mounting files and securing sensitive data\n",
        "from google.colab import drive\n",
        "import os\n",
        "from dotenv import load_dotenv\n",
        "# For OpenAI requests\n",
        "import openai\n",
        "# For interactive UI\n",
        "import ipywidgets as widgets\n",
        "from IPython.display import display, Markdown\n",
        "import time\n",
        "from jupyter_ui_poll import ui_events\n",
        "# For string processing\n",
        "import re\n",
        "# For data visualization\n",
        "import matplotlib.pyplot as plt"
      ]
    },
    {
      "cell_type": "markdown",
      "source": [
        "# Environment Setup\n",
        "We use .env files to securely load API keys and other sensitive information. The environment file is stored on Google Drive for ease of access across sessions. This section handles mounting the drive and loading required keys for API interactions."
      ],
      "metadata": {
        "id": "tgc2r-aHn6vL"
      }
    },
    {
      "cell_type": "code",
      "execution_count": 3,
      "metadata": {
        "colab": {
          "base_uri": "https://localhost:8080/"
        },
        "id": "ngvG1b4jhH4q",
        "outputId": "7cb6bc80-ead0-4268-9271-a18c164935de"
      },
      "outputs": [
        {
          "output_type": "stream",
          "name": "stdout",
          "text": [
            "Mounted at /content/drive\n"
          ]
        }
      ],
      "source": [
        "drive.mount('/content/drive')\n",
        "env_path = '/content/drive/MyDrive/API-LLM-Project/.env'\n",
        "load_dotenv(env_path)\n",
        "# API Keys\n",
        "news_key = os.getenv(\"NEWS_API_KEY\")\n",
        "openai.api_key = os.getenv(\"OPENAI_API_KEY\")"
      ]
    },
    {
      "cell_type": "markdown",
      "metadata": {
        "id": "5cQIKodVKlRH"
      },
      "source": [
        "# Country Selection\n",
        "To tailor news content, please select a country from the dropdown list. This will filter the news articles according to your specified region."
      ]
    },
    {
      "cell_type": "code",
      "execution_count": 4,
      "metadata": {
        "colab": {
          "base_uri": "https://localhost:8080/",
          "height": 49,
          "referenced_widgets": [
            "9d0a25ef629d49e2bada41fc56c8222a",
            "deec21f64a074b57b7634063d722b9f4",
            "0a815165c8a24fa6bfdc4f5a201d73c6"
          ]
        },
        "id": "uf4JiCN9PBUd",
        "outputId": "5ac0cb05-7068-4785-a2ac-8b44bcdfa82f"
      },
      "outputs": [
        {
          "output_type": "display_data",
          "data": {
            "text/plain": [
              "Dropdown(description='Country:', options=(('Select a Country', 'select'), ('United States', 'US')), value='sel…"
            ],
            "application/vnd.jupyter.widget-view+json": {
              "version_major": 2,
              "version_minor": 0,
              "model_id": "9d0a25ef629d49e2bada41fc56c8222a"
            }
          },
          "metadata": {}
        }
      ],
      "source": [
        "# Define the dropdown widget with a placeholder option\n",
        "country_dropdown = widgets.Dropdown(\n",
        "    options=[\n",
        "        ('Select a Country', 'select'),\n",
        "        ('United States', 'US')\n",
        "    ],\n",
        "    value='select',  # default value\n",
        "    description='Country:',\n",
        ")\n",
        "\n",
        "display(country_dropdown)\n",
        "\n",
        "# Essentially a loop that will alternate between polling ui events and sleeping until the user makes a selection\n",
        "with ui_events() as poll:\n",
        "  while country_dropdown.value == 'select':\n",
        "    poll(10)\n",
        "    time.sleep(0.1)"
      ]
    },
    {
      "cell_type": "markdown",
      "source": [
        "# Fetching Top Headlines\n",
        "Using the selected country, we query the News API for the latest headlines. The response is parsed to combine article titles and descriptions, which are then sent to the OpenAI model for summarization."
      ],
      "metadata": {
        "id": "59b9oDMUoPMv"
      }
    },
    {
      "cell_type": "code",
      "execution_count": 5,
      "metadata": {
        "id": "KBok5gEZsuYP"
      },
      "outputs": [],
      "source": [
        "# Top URLs syntax: url?country={chosen_country}&apiKey=API_KEY\n",
        "top_headlines_url = 'https://newsapi.org/v2/top-headlines'\n",
        "temp_country = country_dropdown.value\n",
        "news_params = {\n",
        "    'country': temp_country,\n",
        "    'apiKey': news_key\n",
        "}\n",
        "\n",
        "news_response = requests.get(top_headlines_url, params = news_params)\n",
        "# If the response from News API is not \"OK\" stop the execution of the project\n",
        "if news_response.status_code != 200:\n",
        "  raise RuntimeError(f\"Error: {news_response.status_code}, {news_response.reason}\")\n",
        "# Converting request object to dictionary\n",
        "news_data = news_response.json()\n",
        "# Now we combine all titles and descriptions into a single legible string\n",
        "combined_content = '\\n\\n'.join(\n",
        "    f\"Title: {article['title']} \\n Description{article['description']}\"\n",
        "    for article in news_data['articles']\n",
        ")"
      ]
    },
    {
      "cell_type": "markdown",
      "metadata": {
        "id": "YeHBiu5EKpKD"
      },
      "source": [
        "# Processing Articles with OpenAI\n",
        "In this section, we’ll prepare and send the news data to OpenAI’s language model for summarization. Our aim is to categorize and condense the news articles into structured summaries under specified topics."
      ]
    },
    {
      "cell_type": "markdown",
      "metadata": {
        "id": "NNMJpLqrUJLf"
      },
      "source": [
        "## Setting Up API Parameters\n",
        "First, we define the API parameters, including the model to use, specific instructions for categorization, and a user message containing the combined article content. The parameters are carefully chosen to ensure the model categorizes articles into the topics: Politics, Economics, Social Issues, Environment, Technology, and Entertainment."
      ]
    },
    {
      "cell_type": "code",
      "execution_count": 6,
      "metadata": {
        "id": "vZHkz1xuK2fG"
      },
      "outputs": [],
      "source": [
        "openai_params = {\n",
        "    'model': 'gpt-4o',\n",
        "    'messages': [\n",
        "        {\n",
        "            \"role\": \"system\",\n",
        "            \"content\": (\n",
        "                \"You are an intelligent summarization assistant tasked with categorizing news articles into the specific sections: 'Politics', 'Economics', 'Social Issues', 'Environment', 'Technology', and 'Entertainment.' \"\n",
        "                \"Each category should have a single numeric percentage assigned (e.g., 'Politics: 40%'). \"\n",
        "                \"For each section with content, provide up to 3 bullet points summarizing the top 3 most relevant articles in that category. \"\n",
        "                \"List articles as bullet points, using the format: '[Article Title] - [Source]: [Brief Summary]'. \"\n",
        "                \"If a category has no articles, list it with a percentage of 0% and write 'No articles fit this category.' \"\n",
        "                \"Ensure that any special characters, such as `$`, `#`, or `*`, are properly escaped for Markdown formatting (e.g., use `\\$` for `$`).\\n\\n\"\n",
        "                \"Do **not** create any categories other than 'Politics', 'Economics', 'Social Issues', 'Environment', 'Technology', and 'Entertainment.' \"\n",
        "                \"Disregard content about weather, natural disasters, or other topics outside these specific categories, and do not create a 'Weather' category.\\n\\n\"\n",
        "                \"Strictly follow this format for each response:\\n\\n\"\n",
        "                \"- **Category Name: Percentage%**\\n  1. Article Summary Bullet 1\\n  2. Article Summary Bullet 2\\n  3. Article Summary Bullet 3\\n\\n\"\n",
        "                \"Example format:\\n\\n\"\n",
        "                \"- **Politics: 40%**\\n  1. Article Summary 1\\n  2. Article Summary 2\\n  3. Article Summary 3\\n\\n\"\n",
        "                \"- **Economics: 20%**\\n  No articles fit this category.\\n\\n\"\n",
        "                \"Each response should include all categories listed, with clear headings, percentages, and article summaries as instructed.\"\n",
        "            )\n",
        "        },\n",
        "        {\n",
        "            \"role\": \"user\",\n",
        "            \"content\": (\n",
        "                f\"Analyze the following articles and categorize them appropriately in the format specified. \"\n",
        "                f\"The content is as follows:\\n\\n{combined_content}\"\n",
        "            )\n",
        "        }\n",
        "    ],\n",
        "    'max_tokens': 1000,\n",
        "    'temperature': 0\n",
        "}"
      ]
    },
    {
      "cell_type": "markdown",
      "metadata": {
        "id": "1BVuOIApUQzy"
      },
      "source": [
        "## Making the API Request\n",
        "\n",
        "With the parameters set, we’re now ready to make the request to OpenAI’s API. The response from the model contains categorized summaries, which we’ll format and display. This step sends the articles to OpenAI for analysis, where the model organizes them according to our predefined categories."
      ]
    },
    {
      "cell_type": "markdown",
      "source": [
        "If an error occurs (e.g., if the model fails to generate a response), an error message will be displayed to inform the user."
      ],
      "metadata": {
        "id": "dMCc5BmBrejj"
      }
    },
    {
      "cell_type": "code",
      "execution_count": 7,
      "metadata": {
        "id": "CylFfXi2UZ8o"
      },
      "outputs": [],
      "source": [
        "try:\n",
        "  openai_response = openai.chat.completions.create(**openai_params)\n",
        "except Exception as e:\n",
        "  print(f\"An error occured: {e}\")\n",
        "article_summary = openai_response.choices[0].message.content.strip()"
      ]
    },
    {
      "cell_type": "markdown",
      "source": [
        "# Data Visualization and Presentation\n",
        "In this final section, we process and present the categorized article data for easy interpretation. Using regex, we extract the category names and their corresponding percentages from the generated summary. This data is stored in a dictionary, with categories containing no articles filtered out to ensure clean visuals.\n",
        "\n",
        "To visualize the breakdown of news categories, we create two types of charts:\n",
        "\n",
        "    Pie Chart: Provides an intuitive overview of the category distribution, allowing for quick comparison of each category’s weight.\n",
        "    Bar Chart: Offers a straightforward view of each category’s percentage, highlighting the prominence of topics more clearly.\n",
        "\n",
        "Finally, the complete article summary is displayed in Markdown format below the visualizations, presenting detailed insights into each category. This structured presentation helps users quickly grasp both the quantitative and qualitative aspects of the summarized news."
      ],
      "metadata": {
        "id": "NLZ52rPuQlTP"
      }
    },
    {
      "cell_type": "code",
      "source": [
        "# Creating a regex to make a dictionary of the percentage breakdown of article varieties\n",
        "category_matches = re.findall(r\"-\\s\\*\\*(.+):\\s(\\d+)%\\*\\*\", article_summary)\n",
        "\n",
        "# Creating the dictionary from the matches\n",
        "category_dict = {category.strip(): int(percent) for category, percent in category_matches}\n",
        "\n",
        "# Removing keys with a value of 0 (Empty article categories)\n",
        "filtered_dict = {key: value for key, value in category_dict.items() if value != 0}\n",
        "\n",
        "categories = list(filtered_dict.keys())\n",
        "percentages = list(filtered_dict.values())\n",
        "\n",
        "# Pie Chart\n",
        "plt.figure(figsize=(8, 6))\n",
        "plt.pie(percentages, labels=categories, autopct='%1.1f%%', startangle=140, colors=plt.cm.Paired.colors)\n",
        "plt.title('Article Categories Distribution')\n",
        "plt.show()\n",
        "\n",
        "# Bar Chart\n",
        "plt.figure(figsize=(10, 6))\n",
        "plt.bar(categories, percentages, color=plt.cm.Paired.colors)\n",
        "plt.title('Article Categories Distribution')\n",
        "plt.xlabel('Categories')\n",
        "plt.ylabel('Percentage')\n",
        "plt.show()\n",
        "\n",
        "# Markdown Article Summary\n",
        "display(Markdown(article_summary))"
      ],
      "metadata": {
        "colab": {
          "base_uri": "https://localhost:8080/",
          "height": 1000
        },
        "id": "LE4OI58XGOZ_",
        "outputId": "c6d109fe-3066-47f0-8ef9-af413285b502"
      },
      "execution_count": 8,
      "outputs": [
        {
          "output_type": "display_data",
          "data": {
            "text/plain": [
              "<Figure size 800x600 with 1 Axes>"
            ],
            "image/png": "[encoded data removed]"
          },
          "metadata": {}
        },
        {
          "output_type": "display_data",
          "data": {
            "text/plain": [
              "<Figure size 1000x600 with 1 Axes>"
            ],
            "image/png": "[encoded data removed]"
          },
          "metadata": {}
        },
        {
          "output_type": "display_data",
          "data": {
            "text/plain": [
              "<IPython.core.display.Markdown object>"
            ],
            "text/markdown": "- **Politics: 40%**\n  1. *Israel PM Netanyahu fires defence minister Gallant* - BBC.com: Netanyahu cites eroded trust as the reason for dismissing Gallant.\n  2. *Trump votes in his \"last\" election: \"I don't even want to think about losing\"* - Axios: Trump expresses confidence in his electoral prospects.\n  3. *Non-credible bomb threats against Atlanta-area polling places were from Russia, secretary of state says* - CNN: Georgia's Secretary of State reports Russian-originated threats disrupted voting.\n\n- **Economics: 0%**\n  No articles fit this category.\n\n- **Social Issues: 20%**\n  1. *Thirty-five Palestinians killed in Gaza, Israel issues new evacuation orders* - Reuters: Israeli military operations in Gaza result in casualties and new evacuation directives.\n  2. *Israel hostage families attack Benjamin Netanyahu over Hamas leaks* - Financial Times: Families criticize Netanyahu over alleged leaks concerning hostages.\n  3. *A week after Spain’s floods, families hold out hope that missing loved ones are alive* - The Associated Press: Families in Spain remain hopeful for missing relatives post-floods.\n\n- **Environment: 0%**\n  No articles fit this category.\n\n- **Technology: 20%**\n  1. *Apple News will let you watch election results from your lock screen* - The Verge: Apple News introduces live election results on lock screens.\n  2. *LignoSat: First wood-panelled satellite launched into space* - BBC.com: Japan launches a satellite to test timber as a renewable material in space.\n  3. *Watch 31st SpaceX Dragon cargo capsule arrive at the ISS today* - Space.com: SpaceX Dragon capsule scheduled to dock at the ISS.\n\n- **Entertainment: 20%**\n  1. *Tyka Nelson Dies: Singer And Prince’s Sister Was 64* - Deadline: Tyka Nelson, sister of Prince, passes away at 64.\n  2. *Metal Slug Tactics is an odd mix of arcade shooter and grid strategy that works* - Ars Technica: A new game combines classic arcade elements with strategy gameplay.\n  3. *Taylor Swift Appeared to Use One Word to Describe Chiefs’ OT Win Over Bucs* - Sports Illustrated: Taylor Swift comments on a football game, resonating with fans."
          },
          "metadata": {}
        }
      ]
    }
  ],
  "metadata": {
    "colab": {
      "toc_visible": true,
      "provenance": [],
      "authorship_tag": "ABX9TyPIveUc2xVoNpgTMVZpnEcc",
      "include_colab_link": true
    },
    "kernelspec": {
      "display_name": "Python 3",
      "name": "python3"
    },
    "language_info": {
      "name": "python"
    },
    "widgets": {
      "application/vnd.jupyter.widget-state+json": {
        "9d0a25ef629d49e2bada41fc56c8222a": {
          "model_module": "@jupyter-widgets/controls",
          "model_name": "DropdownModel",
          "model_module_version": "1.5.0",
          "state": {
            "_dom_classes": [],
            "_model_module": "@jupyter-widgets/controls",
            "_model_module_version": "1.5.0",
            "_model_name": "DropdownModel",
            "_options_labels": [
              "Select a Country",
              "United States"
            ],
            "_view_count": null,
            "_view_module": "@jupyter-widgets/controls",
            "_view_module_version": "1.5.0",
            "_view_name": "DropdownView",
            "description": "Country:",
            "description_tooltip": null,
            "disabled": false,
            "index": 1,
            "layout": "IPY_MODEL_deec21f64a074b57b7634063d722b9f4",
            "style": "IPY_MODEL_0a815165c8a24fa6bfdc4f5a201d73c6"
          }
        },
        "deec21f64a074b57b7634063d722b9f4": {
          "model_module": "@jupyter-widgets/base",
          "model_name": "LayoutModel",
          "model_module_version": "1.2.0",
          "state": {
            "_model_module": "@jupyter-widgets/base",
            "_model_module_version": "1.2.0",
            "_model_name": "LayoutModel",
            "_view_count": null,
            "_view_module": "@jupyter-widgets/base",
            "_view_module_version": "1.2.0",
            "_view_name": "LayoutView",
            "align_content": null,
            "align_items": null,
            "align_self": null,
            "border": null,
            "bottom": null,
            "display": null,
            "flex": null,
            "flex_flow": null,
            "grid_area": null,
            "grid_auto_columns": null,
            "grid_auto_flow": null,
            "grid_auto_rows": null,
            "grid_column": null,
            "grid_gap": null,
            "grid_row": null,
            "grid_template_areas": null,
            "grid_template_columns": null,
            "grid_template_rows": null,
            "height": null,
            "justify_content": null,
            "justify_items": null,
            "left": null,
            "margin": null,
            "max_height": null,
            "max_width": null,
            "min_height": null,
            "min_width": null,
            "object_fit": null,
            "object_position": null,
            "order": null,
            "overflow": null,
            "overflow_x": null,
            "overflow_y": null,
            "padding": null,
            "right": null,
            "top": null,
            "visibility": null,
            "width": null
          }
        },
        "0a815165c8a24fa6bfdc4f5a201d73c6": {
          "model_module": "@jupyter-widgets/controls",
          "model_name": "DescriptionStyleModel",
          "model_module_version": "1.5.0",
          "state": {
            "_model_module": "@jupyter-widgets/controls",
            "_model_module_version": "1.5.0",
            "_model_name": "DescriptionStyleModel",
            "_view_count": null,
            "_view_module": "@jupyter-widgets/base",
            "_view_module_version": "1.2.0",
            "_view_name": "StyleView",
            "description_width": ""
          }
        }
      }
    }
  },
  "nbformat": 4,
  "nbformat_minor": 0
}